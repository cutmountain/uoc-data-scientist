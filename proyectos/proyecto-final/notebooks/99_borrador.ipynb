{
 "cells": [
  {
   "cell_type": "markdown",
   "metadata": {},
   "source": [
    "# 99. borrador para pruebas en sucio"
   ]
  },
  {
   "cell_type": "markdown",
   "metadata": {},
   "source": [
    "## Setup"
   ]
  },
  {
   "cell_type": "code",
   "execution_count": 1,
   "metadata": {},
   "outputs": [],
   "source": [
    "import sys, os\n",
    "sys.path.append(os.getcwd().replace('/notebooks',''))  # Replace with current directory name"
   ]
  },
  {
   "cell_type": "code",
   "execution_count": 2,
   "metadata": {},
   "outputs": [],
   "source": [
    "#===== Configuración regional =================================\n",
    "import locale\n",
    "\n",
    "# Name might vary with operating system.\n",
    "locale.setlocale(locale.LC_ALL, 'es_ES')\n",
    "\n",
    "locale._override_localeconv[\"thousands_sep\"] = \".\"\n",
    "\n",
    "#===== Librerías ==============================================\n",
    "# Importing the Warnings library for better presentation\n",
    "import warnings\n",
    "\n",
    "# Importando la biblioteca pandas para manipulación y análisis de datos\n",
    "import pandas as pd\n",
    "# Importando NumPy para operaciones numéricas y manipulación de arreglos\n",
    "import numpy as np\n",
    "# Importando itertools para generar combinaciones de columnas\n",
    "import itertools\n",
    "\n",
    "# Importando matplotlib.pyplot para crear gráficos y visualizaciones\n",
    "import matplotlib.pyplot as plt\n",
    "# Importando Seaborn para visualización de datos estadísticos (opcional, pero puede complementar a Plotly)\n",
    "import seaborn as sns\n",
    "# Importando Plotly Express para visualizaciones interactivas de alto nivel y fáciles de usar\n",
    "import plotly.express as px\n",
    "# Importando Plotly Graph Objects para un control más detallado sobre las visualizaciones\n",
    "import plotly.graph_objects as go\n",
    "# Multiple graphs in a figure\n",
    "from plotly.subplots import make_subplots\n",
    "\n",
    "# Importando la función seasonal_decompose para la descomposición de series temporales\n",
    "from statsmodels.tsa.seasonal import seasonal_decompose\n",
    "\n",
    "#===== Ajustes visualización gráficos ============================\n",
    "warnings.filterwarnings('ignore', category=DeprecationWarning)\n",
    "# Matplotlib inline to visualize Matplotlib graphs\n",
    "%matplotlib inline\n",
    "\n",
    "# Configuration to set so that all the Seaborn figures come out with this size\n",
    "%config Inlinebackend.figure_format= 'retina'\n",
    "warnings.resetwarnings()\n",
    "\n",
    "# Set the Seaborn context to \"poster\" for larger text and figures\n",
    "sns.set_context(\"poster\")\n",
    "\n",
    "# Set the default figure size for Seaborn plots\n",
    "sns.set(rc={\"figure.figsize\": (12., 6.)})\n",
    "\n",
    "# Set the Seaborn style to \"whitegrid\" for a white background with gridlines\n",
    "sns.set_style(\"whitegrid\")\n",
    "\n",
    "#===== Librerías proyecto ============================\n",
    "from utils.data import Datasets\n",
    "from utils.eda import column_explore\n"
   ]
  },
  {
   "cell_type": "markdown",
   "metadata": {},
   "source": [
    "## Carga Inicial de Datos"
   ]
  },
  {
   "cell_type": "code",
   "execution_count": 4,
   "metadata": {},
   "outputs": [],
   "source": [
    "ds = Datasets()\n",
    "cash, fees = ds.get_original_datasets()"
   ]
  },
  {
   "cell_type": "markdown",
   "metadata": {},
   "source": [
    "## Pruebas"
   ]
  },
  {
   "cell_type": "code",
   "execution_count": 12,
   "metadata": {},
   "outputs": [
    {
     "data": {
      "text/plain": [
       "total_amount\n",
       "5.0     21060\n",
       "10.0        1\n",
       "Name: count, dtype: int64"
      ]
     },
     "execution_count": 12,
     "metadata": {},
     "output_type": "execute_result"
    }
   ],
   "source": [
    "# Python code\n",
    "fees.total_amount.value_counts()"
   ]
  },
  {
   "cell_type": "code",
   "execution_count": null,
   "metadata": {},
   "outputs": [],
   "source": []
  }
 ],
 "metadata": {
  "kernelspec": {
   "display_name": "base",
   "language": "python",
   "name": "python3"
  },
  "language_info": {
   "codemirror_mode": {
    "name": "ipython",
    "version": 3
   },
   "file_extension": ".py",
   "mimetype": "text/x-python",
   "name": "python",
   "nbconvert_exporter": "python",
   "pygments_lexer": "ipython3",
   "version": "3.12.4"
  }
 },
 "nbformat": 4,
 "nbformat_minor": 4
}
